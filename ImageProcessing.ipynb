{
 "cells": [
  {
   "cell_type": "markdown",
   "metadata": {},
   "source": [
    "**IMPORTS**"
   ]
  },
  {
   "cell_type": "code",
   "execution_count": 1,
   "metadata": {},
   "outputs": [],
   "source": [
    "import os\n",
    "import cv2\n",
    "import numpy as np \n",
    "import matplotlib.pyplot as plt"
   ]
  },
  {
   "cell_type": "markdown",
   "metadata": {},
   "source": [
    "- UNDEFINED = (200, 0, 255) = 99"
   ]
  },
  {
   "cell_type": "markdown",
   "metadata": {},
   "source": [
    "**FUNCTION DEFINITIONS**"
   ]
  },
  {
   "cell_type": "code",
   "execution_count": 2,
   "metadata": {},
   "outputs": [],
   "source": [
    "# Importing an image\n",
    "def Init(path:str, grey:bool = False, blur:bool = False) -> np.ndarray:\n",
    "    img = cv2.imread(path)\n",
    "    if (grey):\n",
    "        img = cv2.cvtColor(img, cv2.COLOR_BGR2GRAY)\n",
    "    if (blur):\n",
    "        img = cv2.GaussianBlur(img, (3, 3), cv2.BORDER_DEFAULT)\n",
    "    return img\n",
    "\n",
    "# Displaying an image\n",
    "def Display(img:np.ndarray) -> None:\n",
    "    img = cv2.resize(img, (600, 600))\n",
    "    cv2.imshow(\"wasu\", img); cv2.waitKey(0)\n",
    "\n",
    "# Displaying the rect\n",
    "def DisplayRect(img:np.ndarray, rect:tuple) -> None:\n",
    "    retImg = img.copy()\n",
    "    cv2.rectangle(retImg, rect, (255, 255, 255), 2)\n",
    "    Display(retImg)\n",
    "\n",
    "# Returns a cropped image based on rect\n",
    "def CropRect(img:np.ndarray, rect:tuple) -> np.ndarray:\n",
    "    x, y, w, h = rect\n",
    "    ret = img[y:y + h, x:x + w]\n",
    "    return cv2.resize(ret, (200, 200))\n",
    "\n",
    "def FillRect(grey:np.ndarray, rect:tuple) -> np.ndarray:\n",
    "    retImg = grey.copy()\n",
    "    cv2.rectangle(retImg, rect, np.mean(retImg), -1)\n",
    "    return retImg\n",
    "\n",
    "def Blank() -> np.ndarray:\n",
    "    return np.zeros((200, 200), dtype=np.uint8)"
   ]
  },
  {
   "cell_type": "code",
   "execution_count": 3,
   "metadata": {},
   "outputs": [],
   "source": [
    "# Returns a rect that contains all contours\n",
    "def GetBiggestRect(contours:np.ndarray) -> tuple:\n",
    "    min_x = min_y = 200\n",
    "    max_x = max_y = 0\n",
    "    for contour in contours:\n",
    "        (x,y,w,h) = cv2.boundingRect(contour)\n",
    "        min_x, max_x = min(x, min_x), max(x + w, max_x)\n",
    "        min_y, max_y = min(y, min_y), max(y + h, max_y)\n",
    "    max_w = max_x - min_x\n",
    "    max_h = max_y - min_y\n",
    "    if (max_w == 200) : \n",
    "        min_x += 1\n",
    "        max_w -= 1\n",
    "    if (max_h == 200) : \n",
    "        min_y += 1\n",
    "        max_h -= 1\n",
    "    return (min_x, min_y, max_w, max_h)\n",
    "\n",
    "# Returns a rect of no white space image\n",
    "def RectWhiteSpace(grey:np.ndarray) -> tuple:\n",
    "    kernel_size = 5; white_min = 250; white_max = 255\n",
    "    _, binary_mask = cv2.threshold(grey, white_min, white_max, cv2.THRESH_BINARY_INV)\n",
    "    kernel = cv2.getStructuringElement(cv2.MORPH_RECT, (kernel_size, kernel_size))\n",
    "    expanded_mask = cv2.morphologyEx(binary_mask, cv2.MORPH_CLOSE, kernel)\n",
    "    contours, _ = cv2.findContours(expanded_mask, cv2.RETR_EXTERNAL, cv2.CHAIN_APPROX_SIMPLE)\n",
    "    return GetBiggestRect(contours)\n",
    "\n",
    "# Returns a rect of contours\n",
    "def RectContour(grey_blur:np.ndarray) -> tuple:\n",
    "    edges = cv2.Canny(grey_blur, ((2.7 * np.std(grey_blur))), min(255, 3 * np.std(grey_blur)))\n",
    "    contours, hierarchies = cv2.findContours(edges, cv2.RETR_LIST, cv2.CHAIN_APPROX_NONE)\n",
    "    try: hierarchy = hierarchies[0]\n",
    "    except: hierarchy = []\n",
    "    return GetBiggestRect(contours)"
   ]
  },
  {
   "cell_type": "code",
   "execution_count": 4,
   "metadata": {},
   "outputs": [],
   "source": [
    "def GetNonPink(grey:np.ndarray) -> np.array:\n",
    "    PINK = 99\n",
    "    arr = []\n",
    "    for i in grey:\n",
    "        for j in i:\n",
    "            if j != PINK: arr.append(j)\n",
    "    return arr\n",
    "\n",
    "def GetMiddle(grey:np.ndarray, area:int = 50) -> np.array:\n",
    "    PINK = 99\n",
    "    arr = []\n",
    "    r = range(100 - area//2, 100 + area//2)\n",
    "    for i in r:\n",
    "        for j in r:\n",
    "            if grey[i][j] != PINK: arr.append(grey[i][j])\n",
    "    return arr\n",
    "\n",
    "def RemoveBackground(img:np.ndarray) -> np.ndarray:\n",
    "    grey = cv2.cvtColor(img, cv2.COLOR_BGR2GRAY)\n",
    "    arr = GetNonPink(grey)\n",
    "    mid = GetMiddle(grey)\n",
    "\n",
    "    if len(mid) == 0:\n",
    "        mid = arr.copy()\n",
    "\n",
    "    lt = np.mean(mid) - (np.std(arr) + (3 * np.std(mid)))\n",
    "    ut = np.mean(mid) + (np.std(arr) + (3 * np.std(mid)))\n",
    "\n",
    "    for i in range(200):\n",
    "        for j in range(200):\n",
    "            v = grey[i][j]\n",
    "            if v != 99:\n",
    "                if v > ut or v < lt:\n",
    "                    img[i][j] = (200, 0, 255)\n",
    "    return img"
   ]
  },
  {
   "cell_type": "code",
   "execution_count": 5,
   "metadata": {},
   "outputs": [],
   "source": [
    "\n",
    "def Cont(canny:np.ndarray) -> np.ndarray:\n",
    "    contours, hierarchies = cv2.findContours(canny, cv2.RETR_LIST, cv2.CHAIN_APPROX_SIMPLE)\n",
    "    return contours\n",
    "\n",
    "def ContFilter(contours:np.ndarray, threshold:int = 10) -> np.ndarray:\n",
    "    ret = []\n",
    "    for cnt in contours:\n",
    "        std = np.std(cnt)\n",
    "        if (std > threshold):\n",
    "            ret.append(cnt)\n",
    "        # rect = cv2.boundingRect(cnt)\n",
    "        # if (rect[2] > threshold) or (rect[3] > threshold):\n",
    "        #     ret.append(cnt)\n",
    "    return ret\n"
   ]
  },
  {
   "cell_type": "code",
   "execution_count": 6,
   "metadata": {},
   "outputs": [],
   "source": [
    "# GrabCut from selected rect\n",
    "def GrabCut(img:np.ndarray, rect:tuple, iterations:int = 10) -> np.ndarray:\n",
    "    mask = np.zeros(img.shape[:2],np.uint8)\n",
    "    bgdModel = np.zeros((1,65),np.float64)\n",
    "    fgdModel = np.zeros((1,65),np.float64)\n",
    "    cv2.grabCut(img, mask, rect, bgdModel, fgdModel, iterations, cv2.GC_INIT_WITH_RECT)\n",
    "    mask2 = np.where((mask==2)|(mask==0),0,1).astype('uint8')\n",
    "    img = img*mask2[:,:,np.newaxis]\n",
    "    for i in range(200):\n",
    "        for j in range(200):\n",
    "            if img[i][j][0] == 0 and img[i][j][1] == 0 and img[i][j][2] == 0:\n",
    "                img[i][j][0] = 200; img[i][j][1] = 0; img[i][j][2] = 255\n",
    "    return img"
   ]
  },
  {
   "cell_type": "markdown",
   "metadata": {},
   "source": [
    "**MAIN**\n",
    "\n",
    "*ide*\n",
    "- import image\n",
    "- hapus whitespace\n",
    "- hapus text\n",
    "- itung contour make threshold sesuai std\n",
    "- grabcut\n",
    "\n",
    "*nanti*\n",
    "- hapus kepala setelah whitespace"
   ]
  },
  {
   "cell_type": "code",
   "execution_count": 7,
   "metadata": {},
   "outputs": [],
   "source": [
    "id = 121\n",
    "path = \"data/train/train/\"\n",
    "src = path + f\"{id}.jpg\"\n",
    "\n",
    "def Process(src:str) -> np.ndarray:\n",
    "    img = Init(src, grey=True, blur=True)\n",
    "    rectClean = RectWhiteSpace(img)\n",
    "    img = CropRect(img, rectClean)\n",
    "    std_img = np.std(img)\n",
    "    edges = cv2.Canny(img, 15, 40)\n",
    "    cnts = Cont(edges)\n",
    "    filtered_cnts = ContFilter(cnts, 20)\n",
    "    rect = GetBiggestRect(filtered_cnts)\n",
    "\n",
    "    cleanImage = Init(src)\n",
    "    cleanImage = CropRect(cleanImage, rectClean)\n",
    "    ret = GrabCut(cleanImage, rect, 1)\n",
    "    return ret\n",
    "\n",
    "# img = Process(src)\n",
    "# Display(img)"
   ]
  },
  {
   "cell_type": "code",
   "execution_count": 8,
   "metadata": {},
   "outputs": [],
   "source": [
    "count = 0\n",
    "error = []\n",
    "\n",
    "path = \"data/train/train/\"\n",
    "src = path + f\"{id}.jpg\"\n",
    "destination = (\"processed/\")\n",
    "\n",
    "# for f in os.listdir(path):\n",
    "#     count += 1\n",
    "#     try:\n",
    "#         src = os.path.join(path, f)\n",
    "#         ret = Process(src)\n",
    "#         ret = RemoveBackground(ret)\n",
    "#         cv2.imwrite(os.path.join(destination, f.split('.')[0] + \".jpg\"), ret)\n",
    "#     except:\n",
    "#         error.append(f)\n",
    "# print(f\"Count: {count} | Error: {len(error)}, {error}\\n\")"
   ]
  },
  {
   "cell_type": "code",
   "execution_count": 10,
   "metadata": {},
   "outputs": [
    {
     "name": "stdout",
     "output_type": "stream",
     "text": [
      "1.jpg\n",
      "10.jpg\n",
      "100.jpg\n",
      "101.jpg\n",
      "102.jpg\n",
      "103.jpg\n",
      "104.jpg\n",
      "105.jpg\n",
      "106.jpg\n",
      "107.jpg\n",
      "108.jpg\n",
      "109.jpg\n",
      "11.jpg\n",
      "110.jpg\n",
      "111.jpg\n",
      "112.jpg\n",
      "113.jpg\n",
      "114.jpg\n",
      "115.jpg\n",
      "116.jpg\n",
      "117.jpg\n",
      "118.jpg\n"
     ]
    },
    {
     "ename": "TypeError",
     "evalue": "'NoneType' object is not subscriptable",
     "output_type": "error",
     "traceback": [
      "\u001b[1;31m---------------------------------------------------------------------------\u001b[0m",
      "\u001b[1;31mTypeError\u001b[0m                                 Traceback (most recent call last)",
      "Cell \u001b[1;32mIn [10], line 6\u001b[0m\n\u001b[0;32m      4\u001b[0m \u001b[38;5;28mprint\u001b[39m(f)\n\u001b[0;32m      5\u001b[0m img \u001b[38;5;241m=\u001b[39m Init(path \u001b[38;5;241m+\u001b[39m f, \u001b[38;5;28;01mFalse\u001b[39;00m, \u001b[38;5;28;01mFalse\u001b[39;00m)\n\u001b[1;32m----> 6\u001b[0m img \u001b[38;5;241m=\u001b[39m \u001b[43mCropRect\u001b[49m\u001b[43m(\u001b[49m\u001b[43mimg\u001b[49m\u001b[43m,\u001b[49m\u001b[43m \u001b[49m\u001b[43m(\u001b[49m\u001b[38;5;241;43m0\u001b[39;49m\u001b[43m,\u001b[49m\u001b[43m \u001b[49m\u001b[38;5;241;43m0\u001b[39;49m\u001b[43m,\u001b[49m\u001b[43m \u001b[49m\u001b[38;5;241;43m198\u001b[39;49m\u001b[43m,\u001b[49m\u001b[43m \u001b[49m\u001b[38;5;241;43m150\u001b[39;49m\u001b[43m)\u001b[49m\u001b[43m)\u001b[49m\n\u001b[0;32m      7\u001b[0m cv2\u001b[38;5;241m.\u001b[39mimwrite(\u001b[38;5;124m\"\u001b[39m\u001b[38;5;124mcropped/\u001b[39m\u001b[38;5;124m\"\u001b[39m \u001b[38;5;241m+\u001b[39m f, img)\n",
      "Cell \u001b[1;32mIn [2], line 24\u001b[0m, in \u001b[0;36mCropRect\u001b[1;34m(img, rect)\u001b[0m\n\u001b[0;32m     22\u001b[0m \u001b[38;5;28;01mdef\u001b[39;00m \u001b[38;5;21mCropRect\u001b[39m(img:np\u001b[38;5;241m.\u001b[39mndarray, rect:\u001b[38;5;28mtuple\u001b[39m) \u001b[38;5;241m-\u001b[39m\u001b[38;5;241m>\u001b[39m np\u001b[38;5;241m.\u001b[39mndarray:\n\u001b[0;32m     23\u001b[0m     x, y, w, h \u001b[38;5;241m=\u001b[39m rect\n\u001b[1;32m---> 24\u001b[0m     ret \u001b[38;5;241m=\u001b[39m \u001b[43mimg\u001b[49m\u001b[43m[\u001b[49m\u001b[43my\u001b[49m\u001b[43m:\u001b[49m\u001b[43my\u001b[49m\u001b[43m \u001b[49m\u001b[38;5;241;43m+\u001b[39;49m\u001b[43m \u001b[49m\u001b[43mh\u001b[49m\u001b[43m,\u001b[49m\u001b[43m \u001b[49m\u001b[43mx\u001b[49m\u001b[43m:\u001b[49m\u001b[43mx\u001b[49m\u001b[43m \u001b[49m\u001b[38;5;241;43m+\u001b[39;49m\u001b[43m \u001b[49m\u001b[43mw\u001b[49m\u001b[43m]\u001b[49m\n\u001b[0;32m     25\u001b[0m     \u001b[38;5;28;01mreturn\u001b[39;00m cv2\u001b[38;5;241m.\u001b[39mresize(ret, (\u001b[38;5;241m200\u001b[39m, \u001b[38;5;241m200\u001b[39m))\n",
      "\u001b[1;31mTypeError\u001b[0m: 'NoneType' object is not subscriptable"
     ]
    }
   ],
   "source": [
    "# count = 0\n",
    "# for f in os.listdir(destination):\n",
    "#     count += 1\n",
    "#     print(f)\n",
    "#     img = Init(path + f, False, False)\n",
    "#     img = CropRect(img, (0, 0, 198, 150))\n",
    "#     cv2.imwrite(\"cropped/\" + f, img)"
   ]
  }
 ],
 "metadata": {
  "kernelspec": {
   "display_name": "Python 3",
   "language": "python",
   "name": "python3"
  },
  "language_info": {
   "codemirror_mode": {
    "name": "ipython",
    "version": 3
   },
   "file_extension": ".py",
   "mimetype": "text/x-python",
   "name": "python",
   "nbconvert_exporter": "python",
   "pygments_lexer": "ipython3",
   "version": "3.10.5"
  }
 },
 "nbformat": 4,
 "nbformat_minor": 2
}
